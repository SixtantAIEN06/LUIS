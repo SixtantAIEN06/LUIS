{
 "cells": [
  {
   "cell_type": "code",
   "execution_count": 2,
   "metadata": {},
   "outputs": [],
   "source": [
    "# import speech_recognition\n",
    "# import re\n",
    "# import time\n",
    "# import os\n",
    "# import pyaudio\n",
    "# import wave\n",
    "# def Play_Voice(AUDIO_FILE_NAME):\n",
    "#     CHUNK = 1024\n",
    "#     #開啟聲音檔案\n",
    "#     File = wave.open(AUDIO_FILE_NAME,\"rb\")\n",
    "#     #導入Pyaudio\n",
    "#     p = pyaudio.PyAudio()\n",
    "#     #開啟串流 open stream\n",
    "#     stream = p.open(format = p.get_format_from_width(File.getsampwidth()),\n",
    "#                    channels = File.getnchannels(),\n",
    "#                    rate = File.getframerate(),\n",
    "#                    output = True)\n",
    "#     #讀取音源檔\n",
    "#     data = File.readframes(CHUNK)\n",
    "#     #撥放音源檔\n",
    "#     while data:\n",
    "#         stram.write(data)\n",
    "#         data = File.readframes(CHUNK)\n",
    "#     #停止音源檔\n",
    "#     stream.stop_stream()\n",
    "#     stream.close()\n",
    "#     #關閉PyAudio\n",
    "#     p.terminate()"
   ]
  },
  {
   "cell_type": "code",
   "execution_count": 5,
   "metadata": {},
   "outputs": [
    {
     "name": "stdout",
     "output_type": "stream",
     "text": [
      "我想看有狗的照片\n"
     ]
    }
   ],
   "source": [
    "import speech_recognition as sr\n",
    "filename = \"dogs.wav\"\n",
    "r = sr.Recognizer()\n",
    "with sr.AudioFile(filename) as source:\n",
    "    audio_data = r.record(source)\n",
    "    text = r.recognize_google(audio_data,language=\"zh-TW\")\n",
    "    print(text)"
   ]
  }
 ],
 "metadata": {
  "kernelspec": {
   "display_name": "Python 3",
   "language": "python",
   "name": "python3"
  },
  "language_info": {
   "codemirror_mode": {
    "name": "ipython",
    "version": 3
   },
   "file_extension": ".py",
   "mimetype": "text/x-python",
   "name": "python",
   "nbconvert_exporter": "python",
   "pygments_lexer": "ipython3",
   "version": "3.6.10"
  }
 },
 "nbformat": 4,
 "nbformat_minor": 4
}
